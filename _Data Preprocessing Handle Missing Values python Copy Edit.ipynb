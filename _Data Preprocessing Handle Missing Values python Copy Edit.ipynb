{
 "cells": [
  {
   "cell_type": "code",
   "execution_count": null,
   "id": "4ceee9e5-ae4b-4360-8600-e5e7bcf48f47",
   "metadata": {},
   "outputs": [],
   "source": [
    "from sklearn.impute import KNNImputer, SimpleImputer\n",
    "\n",
    "# Impute missing numerical values\n",
    "ki = KNNImputer(n_neighbors=2)\n",
    "fddata['claim_est_payout'] = ki.fit_transform(fddata[['claim_est_payout']])\n",
    "fddata['claim_est_payout'] = fddata['claim_est_payout'].astype(int)\n",
    "fddata['age_of_vehicle'] = ki.fit_transform(fddata[['age_of_vehicle']])\n",
    "fddata['age_of_vehicle'] = fddata['age_of_vehicle'].astype(int)\n",
    "\n",
    "# Impute missing categorical values\n",
    "si = SimpleImputer(strategy='most_frequent')\n",
    "fddata['witness_present_ind'] = si.fit_transform(fddata[['witness_present_ind']])\n",
    "fddata['witness_present_ind'] = fddata['witness_present_ind'].astype(int)\n",
    "fddata['marital_status'] = si.fit_transform(fddata[['marital_status']])\n",
    "fddata['marital_status'] = fddata['marital_status'].astype(int)\n"
   ]
  }
 ],
 "metadata": {
  "kernelspec": {
   "display_name": "Python 3 (ipykernel)",
   "language": "python",
   "name": "python3"
  },
  "language_info": {
   "codemirror_mode": {
    "name": "ipython",
    "version": 3
   },
   "file_extension": ".py",
   "mimetype": "text/x-python",
   "name": "python",
   "nbconvert_exporter": "python",
   "pygments_lexer": "ipython3",
   "version": "3.12.7"
  }
 },
 "nbformat": 4,
 "nbformat_minor": 5
}
