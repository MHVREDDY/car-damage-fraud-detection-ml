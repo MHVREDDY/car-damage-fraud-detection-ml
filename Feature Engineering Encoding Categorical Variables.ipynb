{
 "cells": [
  {
   "cell_type": "code",
   "execution_count": null,
   "id": "9aca79b8-8665-47bb-bdfe-93f475bebc6e",
   "metadata": {},
   "outputs": [],
   "source": [
    "from sklearn.preprocessing import LabelEncoder\n",
    "\n",
    "LE = LabelEncoder()\n",
    "fddata['accident_site'] = LE.fit_transform(fddata['accident_site'])\n",
    "fddata['channel'] = LE.fit_transform(fddata['channel'])\n",
    "fddata['living_status'] = fddata['living_status'].replace(['Own', 'Rent'], [0, 1])\n",
    "fddata['claim_day_of_week'] = fddata['claim_day_of_week'].map({\n",
    "    'Monday': 0, 'Tuesday': 1, 'Wednesday': 2,\n",
    "    'Thursday': 3, 'Friday': 4, 'Saturday': 5, 'Sunday': 6\n",
    "})\n",
    "fddata['vehicle_category'] = LE.fit_transform(fddata['vehicle_category'])\n",
    "fddata['vehicle_color'] = LE.fit_transform(fddata['vehicle_color'])\n"
   ]
  }
 ],
 "metadata": {
  "kernelspec": {
   "display_name": "Python 3 (ipykernel)",
   "language": "python",
   "name": "python3"
  },
  "language_info": {
   "codemirror_mode": {
    "name": "ipython",
    "version": 3
   },
   "file_extension": ".py",
   "mimetype": "text/x-python",
   "name": "python",
   "nbconvert_exporter": "python",
   "pygments_lexer": "ipython3",
   "version": "3.12.7"
  }
 },
 "nbformat": 4,
 "nbformat_minor": 5
}
